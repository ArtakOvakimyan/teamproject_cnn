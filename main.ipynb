{
  "nbformat": 4,
  "nbformat_minor": 0,
  "metadata": {
    "colab": {
      "provenance": [],
      "collapsed_sections": [
        "STMoUnRPl5SJ",
        "nuGWCdvrn76e",
        "SFGqdxBRoP7K",
        "WIFGy7QNp4No"
      ]
    },
    "kernelspec": {
      "name": "python3",
      "display_name": "Python 3"
    },
    "language_info": {
      "name": "python"
    }
  },
  "cells": [
    {
      "cell_type": "code",
      "execution_count": null,
      "metadata": {
        "colab": {
          "base_uri": "https://localhost:8080/"
        },
        "id": "DzyhJsYvmk7q",
        "outputId": "26647101-cf1a-480e-d641-da5f3f682495"
      },
      "outputs": [
        {
          "output_type": "stream",
          "name": "stdout",
          "text": [
            "Cloning into 'Face2Fate'...\n",
            "remote: Enumerating objects: 19958, done.\u001b[K\n",
            "remote: Counting objects: 100% (44/44), done.\u001b[K\n",
            "remote: Compressing objects: 100% (41/41), done.\u001b[K\n",
            "remote: Total 19958 (delta 21), reused 0 (delta 0), pack-reused 19914 (from 1)\u001b[K\n",
            "Receiving objects: 100% (19958/19958), 200.65 MiB | 14.11 MiB/s, done.\n",
            "Resolving deltas: 100% (2179/2179), done.\n",
            "Updating files: 100% (78043/78043), done.\n"
          ]
        }
      ],
      "source": [
        "!git clone https://github.com/YeyunLU/Face2Fate"
      ]
    },
    {
      "cell_type": "code",
      "source": [
        "from google.colab import drive\n",
        "drive.mount('/content/drive')"
      ],
      "metadata": {
        "colab": {
          "base_uri": "https://localhost:8080/"
        },
        "id": "-HH20l_Fm1z2",
        "outputId": "6d3fff83-2e02-4bc6-fc84-8f532897d6b9"
      },
      "execution_count": 1,
      "outputs": [
        {
          "output_type": "stream",
          "name": "stdout",
          "text": [
            "Mounted at /content/drive\n"
          ]
        }
      ]
    },
    {
      "cell_type": "code",
      "source": [
        "!pip install unrar\n",
        "!unrar x '/content/drive/My Drive/№11 128 TLTX 08.2023.rar'"
      ],
      "metadata": {
        "id": "hMp1wDeio0cc"
      },
      "execution_count": null,
      "outputs": []
    },
    {
      "cell_type": "code",
      "source": [
        "import os\n",
        "import shutil\n",
        "import random\n",
        "\n",
        "source_folder = '/content/№11 128 TLTX 08.2023'\n",
        "train_folder = '/content/train'\n",
        "test_folder = '/content/test'\n",
        "\n",
        "os.makedirs(train_folder, exist_ok=True)\n",
        "os.makedirs(test_folder, exist_ok=True)\n",
        "\n",
        "for class_folder in os.listdir(source_folder):\n",
        "    class_path = os.path.join(source_folder, class_folder)\n",
        "\n",
        "    if os.path.isdir(class_path):\n",
        "        images = [img for img in os.listdir(class_path) if img.endswith(('.png', '.jpg', '.jpeg', '.gif'))]\n",
        "\n",
        "        random.shuffle(images)\n",
        "\n",
        "        split_index = int(0.8 * len(images))\n",
        "        train_images = images[:split_index]\n",
        "        test_images = images[split_index:]\n",
        "\n",
        "        for img in train_images:\n",
        "            shutil.copy(os.path.join(class_path, img), os.path.join(train_folder, class_folder + '_' + img))\n",
        "\n",
        "        for img in test_images:\n",
        "            shutil.copy(os.path.join(class_path, img), os.path.join(test_folder, class_folder + '_' + img))\n",
        "\n",
        "print(\"Разделение изображений завершено.\")"
      ],
      "metadata": {
        "colab": {
          "base_uri": "https://localhost:8080/"
        },
        "id": "1vFfBOdFXIyq",
        "outputId": "a07be2f9-6194-4afe-9a7b-43b2da5706ba"
      },
      "execution_count": 3,
      "outputs": [
        {
          "output_type": "stream",
          "name": "stdout",
          "text": [
            "Разделение изображений завершено.\n"
          ]
        }
      ]
    },
    {
      "cell_type": "code",
      "source": [
        "import torch\n",
        "import torch.nn as nn\n",
        "import torch.nn.functional as F\n",
        "import torchvision\n",
        "import matplotlib.pyplot as plt\n",
        "import numpy as np\n",
        "import pandas as pd\n",
        "from math import atan2, degrees\n",
        "import pdb\n",
        "import csv\n",
        "import numpy as np\n",
        "import matplotlib.pyplot as plt\n",
        "from collections import OrderedDict\n",
        "import numpy as np\n",
        "import cv2\n",
        "import dlib\n",
        "import imutils\n",
        "import os\n",
        "import csv\n",
        "from sklearn.preprocessing import LabelEncoder"
      ],
      "metadata": {
        "id": "TGLunpC4nfyf"
      },
      "execution_count": 4,
      "outputs": []
    },
    {
      "cell_type": "code",
      "source": [
        "df = pd.read_csv(\"/content/combined_labels.csv\")\n",
        "features = [\"nose\", \"mouth\", \"eye\", \"eyebrow\", \"jaw\"]"
      ],
      "metadata": {
        "id": "pY8sFNCdasOc"
      },
      "execution_count": 8,
      "outputs": []
    },
    {
      "cell_type": "code",
      "source": [
        "label_encoders = {}\n",
        "\n",
        "for column in ['nose', 'mouth', 'eye', 'eyebrow', 'jaw']:\n",
        "    le = LabelEncoder()\n",
        "    df[column] = le.fit_transform(df[column])\n",
        "    label_encoders[column] = le\n",
        "print(df)"
      ],
      "metadata": {
        "colab": {
          "base_uri": "https://localhost:8080/"
        },
        "id": "CM-VCbXsBlcC",
        "outputId": "a871ef38-faa3-4457-e8e7-d513188d419e"
      },
      "execution_count": 9,
      "outputs": [
        {
          "output_type": "stream",
          "name": "stdout",
          "text": [
            "                          img_file  nose  mouth  eye  eyebrow  jaw\n",
            "0             1 Дк_-_OnqZ0eJas.jpg     1      1    2        2    2\n",
            "1                   1 Дк_1200а.jpg     1      1    2        2    0\n",
            "2                   1 Дк_16028.jpg     1      1    2        2    1\n",
            "3              1 Дк_16503а (1).jpg     1      1    2        2    1\n",
            "4              1 Дк_16503а (2).jpg     1      1    2        2    1\n",
            "...                            ...   ...    ...  ...      ...  ...\n",
            "69630  99_эльвира болгова (2).jpeg     1      1    2        2    0\n",
            "69631   99_эльвира болгова (3).jpg     1      1    2        2    0\n",
            "69632   99_эльвира болгова (5).jpg     1      1    2        2    1\n",
            "69633   99_эльвира болгова (6).jpg     0      1    0        2    0\n",
            "69634   99_эльвира болгова (7).jpg     1      1    2        2    1\n",
            "\n",
            "[69635 rows x 6 columns]\n"
          ]
        }
      ]
    },
    {
      "cell_type": "code",
      "source": [
        "import os\n",
        "\n",
        "train_path = \"/content/train\"\n",
        "test_path = \"/content/test\"\n",
        "\n",
        "train_files = {f for f in os.listdir(train_path)}\n",
        "test_files = {f for f in os.listdir(test_path)}\n",
        "\n",
        "train_files = {element for i, element in enumerate(train_files) if i <= len(train_files) // 100}\n",
        "test_files = {element for i, element in enumerate(test_files) if i <= len(test_files) // 100}\n",
        "\n",
        "train_df = df[df['img_file'].isin(train_files)]\n",
        "test_df = df[df['img_file'].isin(test_files)]"
      ],
      "metadata": {
        "id": "fHFHc3U5a9f-"
      },
      "execution_count": 41,
      "outputs": []
    },
    {
      "cell_type": "code",
      "source": [
        "from torch.utils.data import Dataset, DataLoader\n",
        "from torchvision import transforms\n",
        "class CustomDataset(Dataset):\n",
        "    def __init__(self, dataframe, img_dir, transform=None):\n",
        "        self.dataframe = dataframe\n",
        "        self.img_dir = img_dir\n",
        "        self.transform = transform\n",
        "        self.valid_indices = self.get_valid_indices()\n",
        "\n",
        "    def get_valid_indices(self):\n",
        "        valid_indices = []\n",
        "        for idx in range(len(self.dataframe)):\n",
        "            img_name = os.path.join(self.img_dir, self.dataframe.iloc[idx, 0])\n",
        "            try:\n",
        "                with Image.open(img_name) as img:\n",
        "                    img.verify()\n",
        "                    valid_indices.append(idx)\n",
        "            except Exception as e:\n",
        "                print(f\"Error loading image {img_name}: {e}\")\n",
        "        return valid_indices\n",
        "\n",
        "    def __len__(self):\n",
        "        return len(self.valid_indices)\n",
        "\n",
        "    def __getitem__(self, idx):\n",
        "        actual_idx = self.valid_indices[idx]\n",
        "        img_name = os.path.join(self.img_dir, self.dataframe.iloc[actual_idx, 0])\n",
        "\n",
        "        try:\n",
        "            image = Image.open(img_name).convert('RGB')\n",
        "            labels = self.dataframe.iloc[actual_idx, 1:].values.astype('long')\n",
        "\n",
        "            if self.transform:\n",
        "                image = self.transform(image)\n",
        "\n",
        "            return image, labels\n",
        "\n",
        "        except Exception as e:\n",
        "            print(f\"Error loading image {img_name}: {e}\")\n",
        "            return None, None\n",
        "\n",
        "transform = transforms.Compose([\n",
        "    transforms.Resize((128, 128)),\n",
        "    transforms.ToTensor(),\n",
        "])\n",
        "\n",
        "train_dataset = CustomDataset(train_df, train_path, transform=transform)\n",
        "test_dataset = CustomDataset(test_df, test_path, transform=transform)\n",
        "\n",
        "train_loader = DataLoader(train_dataset, batch_size=32, shuffle=True)\n",
        "test_loader = DataLoader(test_dataset, batch_size=32, shuffle=False)\n"
      ],
      "metadata": {
        "id": "LF5TiVmlIwN4"
      },
      "execution_count": 42,
      "outputs": []
    },
    {
      "cell_type": "code",
      "source": [
        "class CNN(nn.Module):\n",
        "    def __init__(self, num_classes_per_feature):\n",
        "        super(CNN, self).__init__()\n",
        "        self.conv1 = nn.Conv2d(3, 32, kernel_size=3, stride=1, padding=1)\n",
        "        self.conv2 = nn.Conv2d(32, 64, kernel_size=3, stride=1, padding=1)\n",
        "        self.conv3 = nn.Conv2d(64, 128, kernel_size=3, stride=1, padding=1)\n",
        "\n",
        "        self.fc1 = nn.Linear(128 * 16 * 16, 512)  # Подстроить размер\n",
        "        self.fc2_nose = nn.Linear(512, num_classes_per_feature[0])\n",
        "        self.fc2_mouth = nn.Linear(512, num_classes_per_feature[1])\n",
        "        self.fc2_eye = nn.Linear(512, num_classes_per_feature[2])\n",
        "        self.fc2_eyebrow = nn.Linear(512, num_classes_per_feature[3])\n",
        "        self.fc2_jaw = nn.Linear(512, num_classes_per_feature[4])\n",
        "\n",
        "    def forward(self, x):\n",
        "        x = F.relu(self.conv1(x))\n",
        "        x = F.max_pool2d(x, 2, 2)\n",
        "        x = F.relu(self.conv2(x))\n",
        "        x = F.max_pool2d(x, 2, 2)\n",
        "        x = F.relu(self.conv3(x))\n",
        "        x = F.max_pool2d(x, 2, 2)\n",
        "        x = x.view(x.size(0), -1)\n",
        "        x = F.relu(self.fc1(x))\n",
        "\n",
        "        nose_out = self.fc2_nose(x)\n",
        "        mouth_out = self.fc2_mouth(x)\n",
        "        eye_out = self.fc2_eye(x)\n",
        "        eyebrow_out = self.fc2_eyebrow(x)\n",
        "        jaw_out = self.fc2_jaw(x)\n",
        "\n",
        "        return nose_out, mouth_out, eye_out, eyebrow_out, jaw_out"
      ],
      "metadata": {
        "id": "dJ3jixDqI8VC"
      },
      "execution_count": 43,
      "outputs": []
    },
    {
      "cell_type": "code",
      "source": [
        "num_classes_per_feature = [len(label_encoders[feature].classes_) for feature in features]\n",
        "model = CNN(num_classes_per_feature)"
      ],
      "metadata": {
        "id": "6MfsyCr5Jlah"
      },
      "execution_count": 44,
      "outputs": []
    },
    {
      "cell_type": "code",
      "source": [
        "from sklearn.metrics import accuracy_score\n",
        "from PIL import Image\n",
        "criterion = nn.CrossEntropyLoss()\n",
        "optimizer = torch.optim.Adam(model.parameters(), lr=0.001)\n",
        "\n",
        "# Обучение модели\n",
        "num_epochs = 10\n",
        "\n",
        "for epoch in range(num_epochs):\n",
        "    model.train()\n",
        "    for images, labels in train_loader:\n",
        "        images = [img for img in images if img is not None]\n",
        "        labels = [lbl for lbl in labels if lbl is not None]\n",
        "        if len(images) == 0:\n",
        "          continue\n",
        "\n",
        "        if len(images) == 0:\n",
        "            continue\n",
        "\n",
        "        images = torch.stack(images)\n",
        "        labels = torch.stack(labels)\n",
        "        optimizer.zero_grad()\n",
        "\n",
        "        # Получаем выходы для каждого признака\n",
        "        nose_out, mouth_out, eye_out, eyebrow_out, jaw_out = model(images)\n",
        "\n",
        "        loss_nose = criterion(nose_out, labels[:, 0])\n",
        "        loss_mouth = criterion(mouth_out, labels[:, 1])\n",
        "        loss_eye = criterion(eye_out, labels[:, 2])\n",
        "        loss_eyebrow = criterion(eyebrow_out, labels[:, 3])\n",
        "        loss_jaw = criterion(jaw_out, labels[:, 4])\n",
        "\n",
        "        loss = loss_nose + loss_mouth + loss_eye + loss_eyebrow + loss_jaw\n",
        "        loss.backward()\n",
        "        optimizer.step()\n",
        "\n",
        "    print(f'Epoch [{epoch+1}/{num_epochs}], Loss: {loss.item():.4f}')\n",
        "\n",
        "# Оценка модели на тестовом наборе\n",
        "model.eval()\n",
        "all_labels = []\n",
        "all_preds_nose = []\n",
        "all_preds_mouth = []\n",
        "all_preds_eye = []\n",
        "all_preds_eyebrow = []\n",
        "all_preds_jaw = []\n",
        "\n",
        "with torch.no_grad():\n",
        "    for images, labels in test_loader:\n",
        "        nose_out, mouth_out, eye_out, eyebrow_out, jaw_out = model(images)\n",
        "\n",
        "        _, preds_nose = torch.max(nose_out.data, 1)\n",
        "        _, preds_mouth = torch.max(mouth_out.data, 1)\n",
        "        _, preds_eye = torch.max(eye_out.data, 1)\n",
        "        _, preds_eyebrow = torch.max(eyebrow_out.data, 1)\n",
        "        _, preds_jaw = torch.max(jaw_out.data, 1)\n",
        "\n",
        "        all_labels.extend(labels.numpy())\n",
        "        all_preds_nose.extend(preds_nose.numpy())\n",
        "        all_preds_mouth.extend(preds_mouth.numpy())\n",
        "        all_preds_eye.extend(preds_eye.numpy())\n",
        "        all_preds_eyebrow.extend(preds_eyebrow.numpy())\n",
        "        all_preds_jaw.extend(preds_jaw.numpy())\n",
        "\n",
        "# Вычисление метрик для каждого признака (например, точности)\n",
        "accuracy_nose = accuracy_score([label[0] for label in all_labels], all_preds_nose)\n",
        "accuracy_mouth = accuracy_score([label[1] for label in all_labels], all_preds_mouth)\n",
        "accuracy_eye = accuracy_score([label[2] for label in all_labels], all_preds_eye)\n",
        "accuracy_eyebrow = accuracy_score([label[3] for label in all_labels], all_preds_eyebrow)\n",
        "accuracy_jaw = accuracy_score([label[4] for label in all_labels], all_preds_jaw)\n",
        "\n",
        "print(f'Accuracy Nose: {accuracy_nose:.4f}')\n",
        "print(f'Accuracy Mouth: {accuracy_mouth:.4f}')\n",
        "print(f'Accuracy Eye: {accuracy_eye:.4f}')\n",
        "print(f'Accuracy Eyebrow: {accuracy_eyebrow:.4f}')\n",
        "print(f'Accuracy Jaw: {accuracy_jaw:.4f}')"
      ],
      "metadata": {
        "colab": {
          "base_uri": "https://localhost:8080/"
        },
        "id": "Mzte0lgVJmHZ",
        "outputId": "21687834-429c-486f-ab80-9fcba87c6260"
      },
      "execution_count": 47,
      "outputs": [
        {
          "output_type": "stream",
          "name": "stdout",
          "text": [
            "Epoch [1/10], Loss: 0.1371\n",
            "Epoch [2/10], Loss: 0.1467\n",
            "Epoch [3/10], Loss: 0.0763\n",
            "Epoch [4/10], Loss: 0.1038\n",
            "Epoch [5/10], Loss: 0.0434\n",
            "Epoch [6/10], Loss: 0.1174\n",
            "Epoch [7/10], Loss: 0.0486\n",
            "Epoch [8/10], Loss: 0.0484\n",
            "Epoch [9/10], Loss: 0.0849\n",
            "Epoch [10/10], Loss: 0.0655\n",
            "Accuracy Nose: 0.8529\n",
            "Accuracy Mouth: 0.8162\n",
            "Accuracy Eye: 0.7868\n",
            "Accuracy Eyebrow: 0.6324\n",
            "Accuracy Jaw: 0.5809\n"
          ]
        }
      ]
    },
    {
      "cell_type": "markdown",
      "source": [
        "# Labeling"
      ],
      "metadata": {
        "id": "h9_NeDtEtnDp"
      }
    },
    {
      "cell_type": "code",
      "source": [
        "facial_features_cordinates = {}\n",
        "\n",
        "FACIAL_LANDMARKS_INDEXES = OrderedDict([\n",
        "    (\"Mouth\", (48, 68)),\n",
        "    (\"Right_Eyebrow\", (17, 22)),\n",
        "    (\"Left_Eyebrow\", (22, 27)),\n",
        "    (\"Right_Eye\", (36, 42)),\n",
        "    (\"Left_Eye\", (42, 48)),\n",
        "    (\"Nose\", (27, 35)),\n",
        "    (\"Jaw\", (0, 17))\n",
        "])\n",
        "\n",
        "\n",
        "def shape_to_numpy_array(shape, dtype=\"int\"):\n",
        "    all_face = np.zeros((68, 2), dtype=dtype)\n",
        "    mouth_array = np.zeros((20, 2), dtype=dtype)\n",
        "    eye_array = np.zeros((12, 2), dtype=dtype)\n",
        "    eyebrow_array = np.zeros((10, 2), dtype=dtype)\n",
        "    nose_arry = np.zeros((9, 2), dtype=dtype)\n",
        "    jaw_array = np.zeros((17, 2), dtype=dtype)\n",
        "    data = {}\n",
        "\n",
        "    for i in range(0, 68):\n",
        "        all_face[i] = (shape.part(i).x, shape.part(i).y)\n",
        "\n",
        "    jaw_array = all_face[:17, :]\n",
        "    eyebrow_array = all_face[17:27, :]\n",
        "    nose_array = all_face[27:36, :]\n",
        "    eye_array = all_face[36:48, :]\n",
        "    mouth_array = all_face[48:, :]\n",
        "    jaw_list = jaw_array[:, 0].tolist()\n",
        "    jaw_list.extend(jaw_array[:, 1].tolist())\n",
        "    nose_list = nose_array[:, 0].tolist()\n",
        "    nose_list.extend(nose_array[:, 1].tolist())\n",
        "    eyebrow_list = eyebrow_array[:, 0].tolist()\n",
        "    eyebrow_list.extend(eyebrow_array[:, 1].tolist())\n",
        "    eye_list = eye_array[:, 0].tolist()\n",
        "    eye_list.extend(eye_array[:, 1].tolist())\n",
        "    mouth_list = mouth_array[:, 0].tolist()\n",
        "    mouth_list.extend(mouth_array[:,1].tolist())\n",
        "\n",
        "    data[\"jaw\"] = jaw_list\n",
        "    data[\"nose\"] = nose_list\n",
        "    data[\"eyebrow\"] =  eyebrow_list\n",
        "    data[\"eye\"] = eye_list\n",
        "    data[\"mouth\"] = mouth_list\n",
        "    return data\n",
        "\n",
        "\n",
        "def visualize_facial_landmarks(image, shape, colors=None, alpha=0.75):\n",
        "    overlay = image.copy()\n",
        "    output = image.copy()\n",
        "\n",
        "    if colors is None:\n",
        "        colors = [(19, 199, 109), (79, 76, 240), (230, 159, 23),\n",
        "                  (168, 100, 168), (158, 163, 32),\n",
        "                  (163, 38, 32), (180, 42, 220)]\n",
        "\n",
        "    for (i, name) in enumerate(FACIAL_LANDMARKS_INDEXES.keys()):\n",
        "        (j, k) = FACIAL_LANDMARKS_INDEXES[name]\n",
        "        pts = shape[j:k]\n",
        "        facial_features_cordinates[name] = pts\n",
        "\n",
        "        if name == \"Jaw\":\n",
        "            for l in range(1, len(pts)):\n",
        "                ptA = tuple(pts[l - 1])\n",
        "                ptB = tuple(pts[l])\n",
        "                cv2.line(overlay, ptA, ptB, colors[i], 2)\n",
        "        else:\n",
        "            hull = cv2.convexHull(pts)\n",
        "            cv2.drawContours(overlay, [hull], -1, colors[i], -1)\n",
        "\n",
        "    cv2.addWeighted(overlay, alpha, output, 1 - alpha, 0, output)\n",
        "\n",
        "    print(facial_features_cordinates)\n",
        "    return output\n",
        "\n",
        "detector = dlib.get_frontal_face_detector()\n",
        "predictor = dlib.shape_predictor(\"Face2Fate/src/demo/data/shape_predictor_68_face_landmarks.dat\")\n",
        "\n",
        "ROOT_DIR = os.path.abspath(os.curdir)\n",
        "image_folder = os.path.join(\"/content/train\")\n",
        "image_folder2 = os.path.join(\"/content/test\")\n",
        "jaw = []\n",
        "nose =[]\n",
        "eye = []\n",
        "eyebrow =[]\n",
        "mouth = []\n",
        "idx = 0\n",
        "for img in os.listdir(image_folder):\n",
        "    print(idx)\n",
        "    idx+=1\n",
        "    image_path = os.path.join(image_folder,img)\n",
        "    image = cv2.imread(image_path)\n",
        "    if image is None:\n",
        "      continue\n",
        "    image = imutils.resize(image, width=500)\n",
        "    if image is None:\n",
        "      continue\n",
        "    gray = cv2.cvtColor(image, cv2.COLOR_BGR2GRAY)\n",
        "    rects = detector(gray, 1)\n",
        "\n",
        "    for (i, rect) in enumerate(rects):\n",
        "        shape = predictor(gray, rect)\n",
        "\n",
        "        all_face = shape_to_numpy_array(shape)\n",
        "        all_face[\"jaw\"].insert(0, img)\n",
        "        all_face[\"eye\"].insert(0, img)\n",
        "        all_face[\"mouth\"].insert(0, img)\n",
        "        all_face[\"eyebrow\"].insert(0, img)\n",
        "        all_face[\"nose\"].insert(0, img)\n",
        "        jaw.append(all_face[\"jaw\"])\n",
        "        eye.append(all_face[\"eye\"])\n",
        "        mouth.append(all_face[\"mouth\"])\n",
        "        eyebrow.append(all_face[\"eyebrow\"])\n",
        "        nose.append(all_face[\"nose\"])\n",
        "\n",
        "for img in os.listdir(image_folder2):\n",
        "    print(idx)\n",
        "    idx+=1\n",
        "    image_path = os.path.join(image_folder2,img)\n",
        "    image = cv2.imread(image_path)\n",
        "    if image is None:\n",
        "      continue\n",
        "    image = imutils.resize(image, width=500)\n",
        "    if image is None:\n",
        "      continue\n",
        "    gray = cv2.cvtColor(image, cv2.COLOR_BGR2GRAY)\n",
        "    rects = detector(gray, 1)\n",
        "\n",
        "    for (i, rect) in enumerate(rects):\n",
        "        shape = predictor(gray, rect)\n",
        "        all_face = shape_to_numpy_array(shape)\n",
        "        all_face[\"jaw\"].insert(0, img)\n",
        "        all_face[\"eye\"].insert(0, img)\n",
        "        all_face[\"mouth\"].insert(0, img)\n",
        "        all_face[\"eyebrow\"].insert(0, img)\n",
        "        all_face[\"nose\"].insert(0, img)\n",
        "        jaw.append(all_face[\"jaw\"])\n",
        "        eye.append(all_face[\"eye\"])\n",
        "        mouth.append(all_face[\"mouth\"])\n",
        "        eyebrow.append(all_face[\"eyebrow\"])\n",
        "        nose.append(all_face[\"nose\"])\n",
        "\n",
        "list = [eyebrow, eye, nose, mouth, jaw]\n",
        "names = [\"eyebrow\", \"eye\", \"nose\", \"mouth\", \"jaw\"]\n",
        "for i in range(len(list)):\n",
        "    file_name = names[i]+\".csv\"\n",
        "    with open(file_name,'w', encoding='utf8',newline='') as f:\n",
        "        writer = csv.writer(f)\n",
        "        writer.writerows(list[i])"
      ],
      "metadata": {
        "id": "PIh8-XlMovR-"
      },
      "execution_count": null,
      "outputs": []
    },
    {
      "cell_type": "markdown",
      "source": [
        "# Eye\n",
        "\n"
      ],
      "metadata": {
        "id": "fYAzh9O0lWjs"
      }
    },
    {
      "cell_type": "code",
      "source": [
        "x = []\n",
        "y = []\n",
        "origin = []\n",
        "with open('eye.csv') as csvfile:\n",
        "    readCSV = csv.reader(csvfile, delimiter=',')\n",
        "    for row in readCSV:\n",
        "        origin.append(row[0])\n",
        "        data = [int(d) for d in row[1:]]\n",
        "        n = int(len(data)/2)\n",
        "        x.append(data[:n])\n",
        "        y.append(data[n:])\n",
        "num = len(x)\n",
        "print(\"data num:\",num)"
      ],
      "metadata": {
        "colab": {
          "base_uri": "https://localhost:8080/"
        },
        "id": "EoziQw_iaAUq",
        "outputId": "c9edd511-9a18-47a7-9520-bfb52524c129"
      },
      "execution_count": null,
      "outputs": [
        {
          "output_type": "stream",
          "name": "stdout",
          "text": [
            "data num: 66365\n"
          ]
        }
      ]
    },
    {
      "cell_type": "code",
      "source": [
        "def cal_angle(x, y):\n",
        "    dx = x[1]-x[0]\n",
        "    dy = y[1]-y[0]\n",
        "    d1 = degrees(atan2(dy,dx))\n",
        "    dx = x[1]-x[2]\n",
        "    dy = y[1]-y[2]\n",
        "    d2 = degrees(atan2(dy,dx))\n",
        "    return d1+d2"
      ],
      "metadata": {
        "id": "nCAMeB_DanZT"
      },
      "execution_count": null,
      "outputs": []
    },
    {
      "cell_type": "code",
      "source": [
        "angles1 = []\n",
        "angles2 = []\n",
        "labels = []\n",
        "dys = []\n",
        "dxs = []\n",
        "big = 0\n",
        "silt = 0\n",
        "small = 0\n",
        "for i in range(num):\n",
        "    rx = x[i]\n",
        "    ry = y[i]\n",
        "    dy = (ry[4]+ry[5]-ry[1]-ry[2])/2\n",
        "    dx = rx[3]-rx[0]\n",
        "    dxs.append(dx)\n",
        "    dys.append(dy)\n",
        "    if dy>23:\n",
        "        labels.append(\"big\")\n",
        "        big+=1\n",
        "    elif dx>70:\n",
        "        labels.append(\"silt\")\n",
        "        silt+=1\n",
        "    else:\n",
        "        labels.append(\"small\")\n",
        "        small+=1"
      ],
      "metadata": {
        "id": "lZqQUPBTapbw"
      },
      "execution_count": null,
      "outputs": []
    },
    {
      "cell_type": "code",
      "source": [
        "plt.hist(dxs, bins=10)\n",
        "plt.show()"
      ],
      "metadata": {
        "colab": {
          "base_uri": "https://localhost:8080/",
          "height": 430
        },
        "id": "0bz-3ITYauVT",
        "outputId": "32fb5116-1f77-47fa-9d69-ecffef2a3853"
      },
      "execution_count": null,
      "outputs": [
        {
          "output_type": "display_data",
          "data": {
            "text/plain": [
              "<Figure size 640x480 with 1 Axes>"
            ],
            "image/png": "[encoded data removed]"
          },
          "metadata": {}
        }
      ]
    },
    {
      "cell_type": "code",
      "source": [
        "plt.hist(dys, bins=40)\n",
        "plt.show()"
      ],
      "metadata": {
        "colab": {
          "base_uri": "https://localhost:8080/",
          "height": 430
        },
        "id": "v0OMMCO3awOT",
        "outputId": "960a9ce6-e5d0-449c-b430-474f99eef86a"
      },
      "execution_count": null,
      "outputs": [
        {
          "output_type": "display_data",
          "data": {
            "text/plain": [
              "<Figure size 640x480 with 1 Axes>"
            ],
            "image/png": "[encoded data removed]"
          },
          "metadata": {}
        }
      ]
    },
    {
      "cell_type": "code",
      "source": [
        "labels = np.asarray(labels).reshape((num,1))\n",
        "origin = np.asarray(origin).reshape((num,1))\n",
        "output = np.hstack((origin,labels))"
      ],
      "metadata": {
        "id": "0CPdJ4-2awu-"
      },
      "execution_count": null,
      "outputs": []
    },
    {
      "cell_type": "code",
      "source": [
        "with open('eye_labels.csv','w',encoding='utf8',newline='') as file:\n",
        "    wr = csv.writer(file)\n",
        "    wr.writerow(['img_file', 'eye'])\n",
        "    wr.writerows(output)"
      ],
      "metadata": {
        "id": "i8AXY_N1a1ew"
      },
      "execution_count": null,
      "outputs": []
    },
    {
      "cell_type": "markdown",
      "source": [
        "# Eyebrow"
      ],
      "metadata": {
        "id": "STMoUnRPl5SJ"
      }
    },
    {
      "cell_type": "code",
      "source": [
        "x = []\n",
        "y = []\n",
        "origin = []\n",
        "with open(\"eyebrow.csv\") as csvfile:\n",
        "    readCSV = csv.reader(csvfile, delimiter=',')\n",
        "    for row in readCSV:\n",
        "        origin.append(row[0])\n",
        "        data = [int(d) for d in row[1:]]\n",
        "        n = int(len(data)/2)\n",
        "        x.append(data[:n])\n",
        "        y.append(data[n:])\n",
        "num = len(x)\n",
        "print(\"data num:\",num)"
      ],
      "metadata": {
        "colab": {
          "base_uri": "https://localhost:8080/"
        },
        "id": "-zHN2kL2lonW",
        "outputId": "bbe48da8-5c41-4fd1-cdee-bcddfaf08d7d"
      },
      "execution_count": null,
      "outputs": [
        {
          "output_type": "stream",
          "name": "stdout",
          "text": [
            "data num: 66365\n"
          ]
        }
      ]
    },
    {
      "cell_type": "code",
      "source": [
        "def cal_angle(x, y):\n",
        "    dx = x[1]-x[0]\n",
        "    dy = y[1]-y[0]\n",
        "    d1 = degrees(atan2(dy,dx))\n",
        "    dx = x[1]-x[2]\n",
        "    dy = y[1]-y[2]\n",
        "    d2 = degrees(atan2(dy,dx))\n",
        "    return abs(d1-d2)"
      ],
      "metadata": {
        "id": "ea-lOmn0mL0N"
      },
      "execution_count": null,
      "outputs": []
    },
    {
      "cell_type": "code",
      "source": [
        "angles1 = []\n",
        "angles2 = []\n",
        "labels = []\n",
        "dists=[]\n",
        "for i in range(num):\n",
        "    rx = x[i]\n",
        "    ry = y[i]\n",
        "    dists.append(rx[5]-rx[4])\n",
        "    angle1 = cal_angle(rx[0:3],ry[0:3])\n",
        "    angles1.append(angle1)\n",
        "    angle2 = cal_angle(rx[1:4],ry[1:4])\n",
        "    angles2.append(angle2)\n",
        "    if angle1<175:\n",
        "        labels.append(\"Arch\")\n",
        "    elif angle2<180:\n",
        "        labels.append(\"Straight\")\n",
        "    else:\n",
        "        labels.append(\"Circle\")"
      ],
      "metadata": {
        "id": "6jQIC3IwmOo0"
      },
      "execution_count": null,
      "outputs": []
    },
    {
      "cell_type": "code",
      "source": [
        "labels = np.asarray(labels).reshape((num,1))\n",
        "origin = np.asarray(origin).reshape((num,1))\n",
        "output = np.hstack((origin,labels))"
      ],
      "metadata": {
        "id": "v92xj5oDmbmj"
      },
      "execution_count": null,
      "outputs": []
    },
    {
      "cell_type": "code",
      "source": [
        "with open('eyebrow_labels.csv','w',encoding='utf8',newline='') as file:\n",
        "    wr = csv.writer(file)\n",
        "    wr.writerow(['img_file', 'eyebrow'])\n",
        "    wr.writerows(output)"
      ],
      "metadata": {
        "id": "0sQ_890fmfTg"
      },
      "execution_count": null,
      "outputs": []
    },
    {
      "cell_type": "markdown",
      "source": [
        "#Jaw"
      ],
      "metadata": {
        "id": "nuGWCdvrn76e"
      }
    },
    {
      "cell_type": "code",
      "source": [
        "x = []\n",
        "y = []\n",
        "origin = []\n",
        "with open('jaw.csv') as csvfile:\n",
        "    readCSV = csv.reader(csvfile, delimiter=',')\n",
        "    for row in readCSV:\n",
        "        origin.append(row[0])\n",
        "        data = [int(d) for d in row[1:]]\n",
        "        n = int(len(data)/2)\n",
        "        x.append(data[:n])\n",
        "        y.append(data[n:])\n",
        "num = len(x)\n",
        "print(\"data num:\",num)"
      ],
      "metadata": {
        "colab": {
          "base_uri": "https://localhost:8080/"
        },
        "id": "y-YZz6LhnMTs",
        "outputId": "e1fc8d09-1f56-4495-db53-49576fc95dd6"
      },
      "execution_count": null,
      "outputs": [
        {
          "output_type": "stream",
          "name": "stdout",
          "text": [
            "data num: 66365\n"
          ]
        }
      ]
    },
    {
      "cell_type": "code",
      "source": [
        "def cal_curve(x, y):\n",
        "    gx = np.gradient(x) # first derivatives\n",
        "    gy = np.gradient(y)\n",
        "    g2x = np.gradient(gx) #second derivatives\n",
        "    g2y = np.gradient(gy)\n",
        "    cur = np.abs(g2y) / np.power((np.sqrt(1 + np.power(gy,2))),1.5)\n",
        "    cur = -np.sort(-cur)\n",
        "    return cur[:2]"
      ],
      "metadata": {
        "id": "JZFdtqDHniFi"
      },
      "execution_count": null,
      "outputs": []
    },
    {
      "cell_type": "code",
      "source": [
        "def cal_angle(x, y):\n",
        "    degree = []\n",
        "    dx = x[8] - x[4]\n",
        "    dy = y[8] - y[4]\n",
        "    degree = degrees(atan2(dy,dx))*2\n",
        "    return degree"
      ],
      "metadata": {
        "id": "AZYJMun8nrc9"
      },
      "execution_count": null,
      "outputs": []
    },
    {
      "cell_type": "code",
      "source": [
        "angles = []\n",
        "curs1 = []\n",
        "curs2 = []\n",
        "labels = []\n",
        "dys = []\n",
        "dxs = []\n",
        "square = 0\n",
        "oval = 0\n",
        "circle = 0\n",
        "triangle = 0\n",
        "for i in range(num):\n",
        "    rx = x[i]\n",
        "    ry = y[i]\n",
        "    cur1, cur2 = cal_curve(rx,ry)\n",
        "    angle = cal_angle(rx,ry)\n",
        "    curs1.append(cur1)\n",
        "    curs2.append(cur2)\n",
        "    angles.append(angle)\n",
        "    if cur2 > 0.5:\n",
        "        labels.append(\"square\")\n",
        "        square += 1\n",
        "    elif cur1 > 15:\n",
        "        labels.append(\"triangle\")\n",
        "        triangle += 1\n",
        "    elif angle > 80:\n",
        "        labels.append(\"circle\")\n",
        "        circle += 1\n",
        "    else:\n",
        "        labels.append(\"oval\")\n",
        "        oval += 1"
      ],
      "metadata": {
        "id": "5TCcFI83nwhS"
      },
      "execution_count": null,
      "outputs": []
    },
    {
      "cell_type": "code",
      "source": [
        "labels = np.asarray(labels).reshape((num,1))\n",
        "origin = np.asarray(origin).reshape((num,1))\n",
        "output = np.hstack((origin,labels))"
      ],
      "metadata": {
        "id": "R7Cx1fDLn3UH"
      },
      "execution_count": null,
      "outputs": []
    },
    {
      "cell_type": "code",
      "source": [
        "with open('jaw_labels.csv','w',encoding='utf8',newline='') as file:\n",
        "    wr = csv.writer(file)\n",
        "    wr.writerow(['img_file', 'jaw'])\n",
        "    wr.writerows(output)"
      ],
      "metadata": {
        "id": "oSSUa6Nrn_gs"
      },
      "execution_count": null,
      "outputs": []
    },
    {
      "cell_type": "markdown",
      "source": [
        "# Mouth"
      ],
      "metadata": {
        "id": "SFGqdxBRoP7K"
      }
    },
    {
      "cell_type": "code",
      "source": [
        "x = []\n",
        "y = []\n",
        "origin = []\n",
        "with open('mouth.csv') as csvfile:\n",
        "    readCSV = csv.reader(csvfile, delimiter=',')\n",
        "    for row in readCSV:\n",
        "        origin.append(row[0])\n",
        "        data = [int(d) for d in row[1:]]\n",
        "        n = int(len(data)/2)\n",
        "        x.append(data[:n])\n",
        "        y.append(data[n:])\n",
        "num = len(x)\n",
        "print(\"data num:\",num)"
      ],
      "metadata": {
        "colab": {
          "base_uri": "https://localhost:8080/"
        },
        "id": "RGpk46XroPOI",
        "outputId": "8c420ec1-3978-4b02-c4bf-e1a626bcdf4c"
      },
      "execution_count": null,
      "outputs": [
        {
          "output_type": "stream",
          "name": "stdout",
          "text": [
            "data num: 66365\n"
          ]
        }
      ]
    },
    {
      "cell_type": "code",
      "source": [
        "def cal_angle(x, y):\n",
        "    dx = x[1]-x[0]\n",
        "    dy = y[1]-y[0]\n",
        "    d1 = degrees(atan2(dy,dx))\n",
        "    dx = x[1]-x[2]\n",
        "    dy = y[1]-y[2]\n",
        "    d2 = degrees(atan2(dy,dx))\n",
        "    return d1+d2"
      ],
      "metadata": {
        "id": "94QoOX7XofGV"
      },
      "execution_count": null,
      "outputs": []
    },
    {
      "cell_type": "code",
      "source": [
        "labels = []\n",
        "dxs = []\n",
        "tops = []\n",
        "bottoms = []\n",
        "thick = 0\n",
        "medium = 0\n",
        "small = 0\n",
        "for i in range(num):\n",
        "    rx = x[i]\n",
        "    ry = y[i]\n",
        "    top = ry[14]-ry[3]\n",
        "    bottom = ry[9]-ry[18]\n",
        "    total = top + bottom\n",
        "    dx = max(rx)-min(rx)\n",
        "    dxs.append(dx)\n",
        "    tops.append(top)\n",
        "    bottoms.append(bottom)\n",
        "    if dx < 150:\n",
        "        labels.append(\"small\")\n",
        "        small += 1\n",
        "    elif top > 10 and bottom > 30:\n",
        "        labels.append(\"thick\")\n",
        "        thick +=1\n",
        "    else:\n",
        "        labels.append(\"medium\")\n",
        "        medium += 1"
      ],
      "metadata": {
        "id": "KTckQbl9ohRq"
      },
      "execution_count": null,
      "outputs": []
    },
    {
      "cell_type": "code",
      "source": [
        "labels = np.asarray(labels).reshape((num,1))\n",
        "origin = np.asarray(origin).reshape((num,1))\n",
        "output = np.hstack((origin,labels))"
      ],
      "metadata": {
        "id": "A0RG1l6doj6p"
      },
      "execution_count": null,
      "outputs": []
    },
    {
      "cell_type": "code",
      "source": [
        "with open('mouth_labels.csv','w',encoding='utf8',newline='') as file:\n",
        "    wr = csv.writer(file)\n",
        "    wr.writerow(['img_file', 'mouth'])\n",
        "    wr.writerows(output)"
      ],
      "metadata": {
        "id": "5rrIN-Akpak2"
      },
      "execution_count": null,
      "outputs": []
    },
    {
      "cell_type": "markdown",
      "source": [
        "# Nose"
      ],
      "metadata": {
        "id": "WIFGy7QNp4No"
      }
    },
    {
      "cell_type": "code",
      "source": [
        "x = []\n",
        "y = []\n",
        "origin = []\n",
        "with open('nose.csv') as csvfile:\n",
        "    readCSV = csv.reader(csvfile, delimiter=',')\n",
        "    for row in readCSV:\n",
        "        origin.append(row[0])\n",
        "        data = [int(d) for d in row[1:]]\n",
        "        n = int(len(data)/2)\n",
        "        x.append(data[:n])\n",
        "        y.append(data[n:])\n",
        "num = len(x)\n",
        "print(\"data num:\",num)"
      ],
      "metadata": {
        "colab": {
          "base_uri": "https://localhost:8080/"
        },
        "id": "92p5qg6ap3_B",
        "outputId": "a3101b63-979b-4bad-d452-8e737f2fb95e"
      },
      "execution_count": null,
      "outputs": [
        {
          "output_type": "stream",
          "name": "stdout",
          "text": [
            "data num: 66365\n"
          ]
        }
      ]
    },
    {
      "cell_type": "code",
      "source": [
        "def cal_angle(x, y):\n",
        "    dx = x[1]-x[0]\n",
        "    dy = y[1]-y[0]\n",
        "    d1 = degrees(atan2(dy,dx))\n",
        "    dx = x[1]-x[2]\n",
        "    dy = y[1]-y[2]\n",
        "    d2 = degrees(atan2(dy,dx))\n",
        "    return d1+d2"
      ],
      "metadata": {
        "id": "5R2DIr0bqZV6"
      },
      "execution_count": null,
      "outputs": []
    },
    {
      "cell_type": "code",
      "source": [
        "angles1 = []\n",
        "angles2 = []\n",
        "labels = []\n",
        "dys = []\n",
        "dxs = []\n",
        "wide = 0\n",
        "long = 0\n",
        "small = 0\n",
        "for i in range(num):\n",
        "    rx = x[i]\n",
        "    ry = y[i]\n",
        "    dy = ry[6]-ry[0]\n",
        "    dx = rx[8]-rx[4]\n",
        "    dxs.append(dx)\n",
        "    dys.append(dy)\n",
        "    if dy < 140:\n",
        "        labels.append(\"small\")\n",
        "        small +=1\n",
        "    elif dx > 90:\n",
        "        labels.append(\"wide\")\n",
        "        wide+=1\n",
        "    else:\n",
        "        labels.append(\"long\")\n",
        "        long+=1"
      ],
      "metadata": {
        "id": "L2dO7ZFZqe1I"
      },
      "execution_count": null,
      "outputs": []
    },
    {
      "cell_type": "code",
      "source": [
        "labels = np.asarray(labels).reshape((num,1))\n",
        "origin = np.asarray(origin).reshape((num,1))\n",
        "output = np.hstack((origin,labels))"
      ],
      "metadata": {
        "id": "mWGrYYMoqysu"
      },
      "execution_count": null,
      "outputs": []
    },
    {
      "cell_type": "code",
      "source": [
        "with open('nose_labels.csv','w',encoding='utf8',newline='') as file:\n",
        "    wr = csv.writer(file)\n",
        "    wr.writerow(['img_file', 'nose'])\n",
        "    wr.writerows(output)"
      ],
      "metadata": {
        "id": "xhBzam1RrOaK"
      },
      "execution_count": null,
      "outputs": []
    },
    {
      "cell_type": "code",
      "source": [
        "file_paths = [\n",
        "    'nose_labels.csv',\n",
        "    'mouth_labels.csv',\n",
        "    'eye_labels.csv',\n",
        "    'eyebrow_labels.csv',\n",
        "    'jaw_labels.csv'\n",
        "]\n",
        "\n",
        "combined_df = None\n",
        "\n",
        "for file_path in file_paths:\n",
        "    try:\n",
        "        df = pd.read_csv(file_path)\n",
        "        print(f\"Столбцы в {file_path}: {df.columns.tolist()}\")\n",
        "\n",
        "        if combined_df is None:\n",
        "            combined_df = df\n",
        "        else:\n",
        "            combined_df = pd.merge(combined_df, df, on='img_file', how='outer')\n",
        "\n",
        "    except Exception as e:\n",
        "        print(f\"Ошибка при обработке файла {file_path}: {e}\")\n",
        "\n",
        "if combined_df is not None:\n",
        "    combined_df.to_csv('combined_labels.csv', index=False)\n",
        "else:\n",
        "    print(\"Нет данных для объединения.\")"
      ],
      "metadata": {
        "colab": {
          "base_uri": "https://localhost:8080/"
        },
        "id": "sPAK-ybgsKld",
        "outputId": "9eafd1f0-1dbd-4bd5-e26b-b51172617066"
      },
      "execution_count": null,
      "outputs": [
        {
          "output_type": "stream",
          "name": "stdout",
          "text": [
            "Столбцы в nose_labels.csv: ['img_file', 'nose']\n",
            "Столбцы в mouth_labels.csv: ['img_file', 'mouth']\n",
            "Столбцы в eye_labels.csv: ['img_file', 'eye']\n",
            "Столбцы в eyebrow_labels.csv: ['img_file', 'eyebrow']\n",
            "Столбцы в jaw_labels.csv: ['img_file', 'jaw']\n"
          ]
        }
      ]
    },
    {
      "cell_type": "code",
      "source": [
        "combined_df"
      ],
      "metadata": {
        "colab": {
          "base_uri": "https://localhost:8080/",
          "height": 423
        },
        "id": "duhgcdamtoGG",
        "outputId": "fc50f0c8-e6d3-4d33-d93a-1020c556e716"
      },
      "execution_count": null,
      "outputs": [
        {
          "output_type": "execute_result",
          "data": {
            "text/plain": [
              "                          img_file   nose  mouth    eye   eyebrow     jaw\n",
              "0             1 Дк_-_OnqZ0eJas.jpg  small  small  small  Straight  square\n",
              "1                   1 Дк_1200а.jpg  small  small  small  Straight  circle\n",
              "2                   1 Дк_16028.jpg  small  small  small  Straight    oval\n",
              "3              1 Дк_16503а (1).jpg  small  small  small  Straight    oval\n",
              "4              1 Дк_16503а (2).jpg  small  small  small  Straight    oval\n",
              "...                            ...    ...    ...    ...       ...     ...\n",
              "69630  99_эльвира болгова (2).jpeg  small  small  small  Straight  circle\n",
              "69631   99_эльвира болгова (3).jpg  small  small  small  Straight  circle\n",
              "69632   99_эльвира болгова (5).jpg  small  small  small  Straight    oval\n",
              "69633   99_эльвира болгова (6).jpg   long  small    big  Straight  circle\n",
              "69634   99_эльвира болгова (7).jpg  small  small  small  Straight    oval\n",
              "\n",
              "[69635 rows x 6 columns]"
            ],
            "text/html": [
              "\n",
              "  <div id=\"df-2026fcb5-52bd-42aa-9e9c-360efe2c7b05\" class=\"colab-df-container\">\n",
              "    <div>\n",
              "<style scoped>\n",
              "    .dataframe tbody tr th:only-of-type {\n",
              "        vertical-align: middle;\n",
              "    }\n",
              "\n",
              "    .dataframe tbody tr th {\n",
              "        vertical-align: top;\n",
              "    }\n",
              "\n",
              "    .dataframe thead th {\n",
              "        text-align: right;\n",
              "    }\n",
              "</style>\n",
              "<table border=\"1\" class=\"dataframe\">\n",
              "  <thead>\n",
              "    <tr style=\"text-align: right;\">\n",
              "      <th></th>\n",
              "      <th>img_file</th>\n",
              "      <th>nose</th>\n",
              "      <th>mouth</th>\n",
              "      <th>eye</th>\n",
              "      <th>eyebrow</th>\n",
              "      <th>jaw</th>\n",
              "    </tr>\n",
              "  </thead>\n",
              "  <tbody>\n",
              "    <tr>\n",
              "      <th>0</th>\n",
              "      <td>1 Дк_-_OnqZ0eJas.jpg</td>\n",
              "      <td>small</td>\n",
              "      <td>small</td>\n",
              "      <td>small</td>\n",
              "      <td>Straight</td>\n",
              "      <td>square</td>\n",
              "    </tr>\n",
              "    <tr>\n",
              "      <th>1</th>\n",
              "      <td>1 Дк_1200а.jpg</td>\n",
              "      <td>small</td>\n",
              "      <td>small</td>\n",
              "      <td>small</td>\n",
              "      <td>Straight</td>\n",
              "      <td>circle</td>\n",
              "    </tr>\n",
              "    <tr>\n",
              "      <th>2</th>\n",
              "      <td>1 Дк_16028.jpg</td>\n",
              "      <td>small</td>\n",
              "      <td>small</td>\n",
              "      <td>small</td>\n",
              "      <td>Straight</td>\n",
              "      <td>oval</td>\n",
              "    </tr>\n",
              "    <tr>\n",
              "      <th>3</th>\n",
              "      <td>1 Дк_16503а (1).jpg</td>\n",
              "      <td>small</td>\n",
              "      <td>small</td>\n",
              "      <td>small</td>\n",
              "      <td>Straight</td>\n",
              "      <td>oval</td>\n",
              "    </tr>\n",
              "    <tr>\n",
              "      <th>4</th>\n",
              "      <td>1 Дк_16503а (2).jpg</td>\n",
              "      <td>small</td>\n",
              "      <td>small</td>\n",
              "      <td>small</td>\n",
              "      <td>Straight</td>\n",
              "      <td>oval</td>\n",
              "    </tr>\n",
              "    <tr>\n",
              "      <th>...</th>\n",
              "      <td>...</td>\n",
              "      <td>...</td>\n",
              "      <td>...</td>\n",
              "      <td>...</td>\n",
              "      <td>...</td>\n",
              "      <td>...</td>\n",
              "    </tr>\n",
              "    <tr>\n",
              "      <th>69630</th>\n",
              "      <td>99_эльвира болгова (2).jpeg</td>\n",
              "      <td>small</td>\n",
              "      <td>small</td>\n",
              "      <td>small</td>\n",
              "      <td>Straight</td>\n",
              "      <td>circle</td>\n",
              "    </tr>\n",
              "    <tr>\n",
              "      <th>69631</th>\n",
              "      <td>99_эльвира болгова (3).jpg</td>\n",
              "      <td>small</td>\n",
              "      <td>small</td>\n",
              "      <td>small</td>\n",
              "      <td>Straight</td>\n",
              "      <td>circle</td>\n",
              "    </tr>\n",
              "    <tr>\n",
              "      <th>69632</th>\n",
              "      <td>99_эльвира болгова (5).jpg</td>\n",
              "      <td>small</td>\n",
              "      <td>small</td>\n",
              "      <td>small</td>\n",
              "      <td>Straight</td>\n",
              "      <td>oval</td>\n",
              "    </tr>\n",
              "    <tr>\n",
              "      <th>69633</th>\n",
              "      <td>99_эльвира болгова (6).jpg</td>\n",
              "      <td>long</td>\n",
              "      <td>small</td>\n",
              "      <td>big</td>\n",
              "      <td>Straight</td>\n",
              "      <td>circle</td>\n",
              "    </tr>\n",
              "    <tr>\n",
              "      <th>69634</th>\n",
              "      <td>99_эльвира болгова (7).jpg</td>\n",
              "      <td>small</td>\n",
              "      <td>small</td>\n",
              "      <td>small</td>\n",
              "      <td>Straight</td>\n",
              "      <td>oval</td>\n",
              "    </tr>\n",
              "  </tbody>\n",
              "</table>\n",
              "<p>69635 rows × 6 columns</p>\n",
              "</div>\n",
              "    <div class=\"colab-df-buttons\">\n",
              "\n",
              "  <div class=\"colab-df-container\">\n",
              "    <button class=\"colab-df-convert\" onclick=\"convertToInteractive('df-2026fcb5-52bd-42aa-9e9c-360efe2c7b05')\"\n",
              "            title=\"Convert this dataframe to an interactive table.\"\n",
              "            style=\"display:none;\">\n",
              "\n",
              "  <svg xmlns=\"http://www.w3.org/2000/svg\" height=\"24px\" viewBox=\"0 -960 960 960\">\n",
              "    <path d=\"M120-120v-720h720v720H120Zm60-500h600v-160H180v160Zm220 220h160v-160H400v160Zm0 220h160v-160H400v160ZM180-400h160v-160H180v160Zm440 0h160v-160H620v160ZM180-180h160v-160H180v160Zm440 0h160v-160H620v160Z\"/>\n",
              "  </svg>\n",
              "    </button>\n",
              "\n",
              "  <style>\n",
              "    .colab-df-container {\n",
              "      display:flex;\n",
              "      gap: 12px;\n",
              "    }\n",
              "\n",
              "    .colab-df-convert {\n",
              "      background-color: #E8F0FE;\n",
              "      border: none;\n",
              "      border-radius: 50%;\n",
              "      cursor: pointer;\n",
              "      display: none;\n",
              "      fill: #1967D2;\n",
              "      height: 32px;\n",
              "      padding: 0 0 0 0;\n",
              "      width: 32px;\n",
              "    }\n",
              "\n",
              "    .colab-df-convert:hover {\n",
              "      background-color: #E2EBFA;\n",
              "      box-shadow: 0px 1px 2px rgba(60, 64, 67, 0.3), 0px 1px 3px 1px rgba(60, 64, 67, 0.15);\n",
              "      fill: #174EA6;\n",
              "    }\n",
              "\n",
              "    .colab-df-buttons div {\n",
              "      margin-bottom: 4px;\n",
              "    }\n",
              "\n",
              "    [theme=dark] .colab-df-convert {\n",
              "      background-color: #3B4455;\n",
              "      fill: #D2E3FC;\n",
              "    }\n",
              "\n",
              "    [theme=dark] .colab-df-convert:hover {\n",
              "      background-color: #434B5C;\n",
              "      box-shadow: 0px 1px 3px 1px rgba(0, 0, 0, 0.15);\n",
              "      filter: drop-shadow(0px 1px 2px rgba(0, 0, 0, 0.3));\n",
              "      fill: #FFFFFF;\n",
              "    }\n",
              "  </style>\n",
              "\n",
              "    <script>\n",
              "      const buttonEl =\n",
              "        document.querySelector('#df-2026fcb5-52bd-42aa-9e9c-360efe2c7b05 button.colab-df-convert');\n",
              "      buttonEl.style.display =\n",
              "        google.colab.kernel.accessAllowed ? 'block' : 'none';\n",
              "\n",
              "      async function convertToInteractive(key) {\n",
              "        const element = document.querySelector('#df-2026fcb5-52bd-42aa-9e9c-360efe2c7b05');\n",
              "        const dataTable =\n",
              "          await google.colab.kernel.invokeFunction('convertToInteractive',\n",
              "                                                    [key], {});\n",
              "        if (!dataTable) return;\n",
              "\n",
              "        const docLinkHtml = 'Like what you see? Visit the ' +\n",
              "          '<a target=\"_blank\" href=https://colab.research.google.com/notebooks/data_table.ipynb>data table notebook</a>'\n",
              "          + ' to learn more about interactive tables.';\n",
              "        element.innerHTML = '';\n",
              "        dataTable['output_type'] = 'display_data';\n",
              "        await google.colab.output.renderOutput(dataTable, element);\n",
              "        const docLink = document.createElement('div');\n",
              "        docLink.innerHTML = docLinkHtml;\n",
              "        element.appendChild(docLink);\n",
              "      }\n",
              "    </script>\n",
              "  </div>\n",
              "\n",
              "\n",
              "<div id=\"df-4afca86c-eebd-41f5-8aa4-8433faae1e3b\">\n",
              "  <button class=\"colab-df-quickchart\" onclick=\"quickchart('df-4afca86c-eebd-41f5-8aa4-8433faae1e3b')\"\n",
              "            title=\"Suggest charts\"\n",
              "            style=\"display:none;\">\n",
              "\n",
              "<svg xmlns=\"http://www.w3.org/2000/svg\" height=\"24px\"viewBox=\"0 0 24 24\"\n",
              "     width=\"24px\">\n",
              "    <g>\n",
              "        <path d=\"M19 3H5c-1.1 0-2 .9-2 2v14c0 1.1.9 2 2 2h14c1.1 0 2-.9 2-2V5c0-1.1-.9-2-2-2zM9 17H7v-7h2v7zm4 0h-2V7h2v10zm4 0h-2v-4h2v4z\"/>\n",
              "    </g>\n",
              "</svg>\n",
              "  </button>\n",
              "\n",
              "<style>\n",
              "  .colab-df-quickchart {\n",
              "      --bg-color: #E8F0FE;\n",
              "      --fill-color: #1967D2;\n",
              "      --hover-bg-color: #E2EBFA;\n",
              "      --hover-fill-color: #174EA6;\n",
              "      --disabled-fill-color: #AAA;\n",
              "      --disabled-bg-color: #DDD;\n",
              "  }\n",
              "\n",
              "  [theme=dark] .colab-df-quickchart {\n",
              "      --bg-color: #3B4455;\n",
              "      --fill-color: #D2E3FC;\n",
              "      --hover-bg-color: #434B5C;\n",
              "      --hover-fill-color: #FFFFFF;\n",
              "      --disabled-bg-color: #3B4455;\n",
              "      --disabled-fill-color: #666;\n",
              "  }\n",
              "\n",
              "  .colab-df-quickchart {\n",
              "    background-color: var(--bg-color);\n",
              "    border: none;\n",
              "    border-radius: 50%;\n",
              "    cursor: pointer;\n",
              "    display: none;\n",
              "    fill: var(--fill-color);\n",
              "    height: 32px;\n",
              "    padding: 0;\n",
              "    width: 32px;\n",
              "  }\n",
              "\n",
              "  .colab-df-quickchart:hover {\n",
              "    background-color: var(--hover-bg-color);\n",
              "    box-shadow: 0 1px 2px rgba(60, 64, 67, 0.3), 0 1px 3px 1px rgba(60, 64, 67, 0.15);\n",
              "    fill: var(--button-hover-fill-color);\n",
              "  }\n",
              "\n",
              "  .colab-df-quickchart-complete:disabled,\n",
              "  .colab-df-quickchart-complete:disabled:hover {\n",
              "    background-color: var(--disabled-bg-color);\n",
              "    fill: var(--disabled-fill-color);\n",
              "    box-shadow: none;\n",
              "  }\n",
              "\n",
              "  .colab-df-spinner {\n",
              "    border: 2px solid var(--fill-color);\n",
              "    border-color: transparent;\n",
              "    border-bottom-color: var(--fill-color);\n",
              "    animation:\n",
              "      spin 1s steps(1) infinite;\n",
              "  }\n",
              "\n",
              "  @keyframes spin {\n",
              "    0% {\n",
              "      border-color: transparent;\n",
              "      border-bottom-color: var(--fill-color);\n",
              "      border-left-color: var(--fill-color);\n",
              "    }\n",
              "    20% {\n",
              "      border-color: transparent;\n",
              "      border-left-color: var(--fill-color);\n",
              "      border-top-color: var(--fill-color);\n",
              "    }\n",
              "    30% {\n",
              "      border-color: transparent;\n",
              "      border-left-color: var(--fill-color);\n",
              "      border-top-color: var(--fill-color);\n",
              "      border-right-color: var(--fill-color);\n",
              "    }\n",
              "    40% {\n",
              "      border-color: transparent;\n",
              "      border-right-color: var(--fill-color);\n",
              "      border-top-color: var(--fill-color);\n",
              "    }\n",
              "    60% {\n",
              "      border-color: transparent;\n",
              "      border-right-color: var(--fill-color);\n",
              "    }\n",
              "    80% {\n",
              "      border-color: transparent;\n",
              "      border-right-color: var(--fill-color);\n",
              "      border-bottom-color: var(--fill-color);\n",
              "    }\n",
              "    90% {\n",
              "      border-color: transparent;\n",
              "      border-bottom-color: var(--fill-color);\n",
              "    }\n",
              "  }\n",
              "</style>\n",
              "\n",
              "  <script>\n",
              "    async function quickchart(key) {\n",
              "      const quickchartButtonEl =\n",
              "        document.querySelector('#' + key + ' button');\n",
              "      quickchartButtonEl.disabled = true;  // To prevent multiple clicks.\n",
              "      quickchartButtonEl.classList.add('colab-df-spinner');\n",
              "      try {\n",
              "        const charts = await google.colab.kernel.invokeFunction(\n",
              "            'suggestCharts', [key], {});\n",
              "      } catch (error) {\n",
              "        console.error('Error during call to suggestCharts:', error);\n",
              "      }\n",
              "      quickchartButtonEl.classList.remove('colab-df-spinner');\n",
              "      quickchartButtonEl.classList.add('colab-df-quickchart-complete');\n",
              "    }\n",
              "    (() => {\n",
              "      let quickchartButtonEl =\n",
              "        document.querySelector('#df-4afca86c-eebd-41f5-8aa4-8433faae1e3b button');\n",
              "      quickchartButtonEl.style.display =\n",
              "        google.colab.kernel.accessAllowed ? 'block' : 'none';\n",
              "    })();\n",
              "  </script>\n",
              "</div>\n",
              "    </div>\n",
              "  </div>\n"
            ],
            "application/vnd.google.colaboratory.intrinsic+json": {
              "type": "dataframe",
              "variable_name": "combined_df",
              "summary": "{\n  \"name\": \"combined_df\",\n  \"rows\": 69635,\n  \"fields\": [\n    {\n      \"column\": \"img_file\",\n      \"properties\": {\n        \"dtype\": \"string\",\n        \"num_unique_values\": 66262,\n        \"samples\": [\n          \"101_\\u0415\\u043a\\u0430\\u0442\\u0435\\u0440\\u0438\\u043d\\u0430 \\u0421\\u0430\\u043c\\u0430\\u0440\\u0438\\u043d\\u0430 (8).jpg\",\n          \"24_\\u041f\\u043e\\u043b\\u0438\\u043d\\u0430 \\u0411\\u043e\\u0433\\u0434\\u0430\\u0448\\u043e\\u0432\\u0430 (6).jpg\",\n          \"91_\\u0411\\u043e\\u0440\\u0449\\u0435\\u0432\\u0441\\u043a\\u0438\\u043922.jpg\"\n        ],\n        \"semantic_type\": \"\",\n        \"description\": \"\"\n      }\n    },\n    {\n      \"column\": \"nose\",\n      \"properties\": {\n        \"dtype\": \"category\",\n        \"num_unique_values\": 3,\n        \"samples\": [\n          \"small\",\n          \"long\",\n          \"wide\"\n        ],\n        \"semantic_type\": \"\",\n        \"description\": \"\"\n      }\n    },\n    {\n      \"column\": \"mouth\",\n      \"properties\": {\n        \"dtype\": \"category\",\n        \"num_unique_values\": 3,\n        \"samples\": [\n          \"small\",\n          \"medium\",\n          \"thick\"\n        ],\n        \"semantic_type\": \"\",\n        \"description\": \"\"\n      }\n    },\n    {\n      \"column\": \"eye\",\n      \"properties\": {\n        \"dtype\": \"category\",\n        \"num_unique_values\": 3,\n        \"samples\": [\n          \"small\",\n          \"big\",\n          \"silt\"\n        ],\n        \"semantic_type\": \"\",\n        \"description\": \"\"\n      }\n    },\n    {\n      \"column\": \"eyebrow\",\n      \"properties\": {\n        \"dtype\": \"category\",\n        \"num_unique_values\": 3,\n        \"samples\": [\n          \"Straight\",\n          \"Arch\",\n          \"Circle\"\n        ],\n        \"semantic_type\": \"\",\n        \"description\": \"\"\n      }\n    },\n    {\n      \"column\": \"jaw\",\n      \"properties\": {\n        \"dtype\": \"category\",\n        \"num_unique_values\": 4,\n        \"samples\": [\n          \"circle\",\n          \"triangle\",\n          \"square\"\n        ],\n        \"semantic_type\": \"\",\n        \"description\": \"\"\n      }\n    }\n  ]\n}"
            }
          },
          "metadata": {},
          "execution_count": 102
        }
      ]
    },
    {
      "cell_type": "code",
      "source": [
        "import pandas as pd\n",
        "import numpy as np\n",
        "import os\n",
        "from sklearn.model_selection import train_test_split\n",
        "from tensorflow.keras.preprocessing.image import ImageDataGenerator, load_img, img_to_array\n",
        "from tensorflow.keras.models import Sequential\n",
        "from tensorflow.keras.layers import Conv2D, MaxPooling2D, Flatten, Dense, Dropout\n",
        "from tensorflow.keras.utils import to_categorical\n",
        "\n",
        "df = pd.read_csv('combined_labels.csv')\n",
        "\n",
        "image_paths = df['img_file'].values\n",
        "labels = df['label'].values\n",
        "\n",
        "unique_labels = np.unique(labels)\n",
        "label_to_index = {label: idx for idx, label in enumerate(unique_labels)}\n",
        "numeric_labels = np.array([label_to_index[label] for label in labels])\n",
        "\n",
        "X_train, X_test, y_train, y_test = train_test_split(image_paths, numeric_labels, test_size=0.2, random_state=42)\n",
        "\n",
        "def load_and_preprocess_image(image_path):\n",
        "    img = load_img(image_path, target_size=(128, 128))\n",
        "    img_array = img_to_array(img) / 255.0\n",
        "    return img_array\n",
        "\n",
        "train_images = np.array([load_and_preprocess_image(img_path) for img_path in X_train])\n",
        "test_images = np.array([load_and_preprocess_image(img_path) for img_path in X_test])\n",
        "\n",
        "y_train_categorical = to_categorical(y_train, num_classes=len(unique_labels))\n",
        "y_test_categorical = to_categorical(y_test, num_classes=len(unique_labels))\n",
        "\n",
        "model = Sequential([\n",
        "    Conv2D(32, (3, 3), activation='relu', input_shape=(128, 128, 3)),\n",
        "    MaxPooling2D(pool_size=(2, 2)),\n",
        "    Conv2D(64, (3, 3), activation='relu'),\n",
        "    MaxPooling2D(pool_size=(2, 2)),\n",
        "    Flatten(),\n",
        "    Dense(128, activation='relu'),\n",
        "    Dropout(0.5),\n",
        "    Dense(len(unique_labels), activation='softmax')\n",
        "])\n",
        "\n",
        "model.compile(optimizer='adam', loss='categorical_crossentropy', metrics=['accuracy'])\n",
        "\n",
        "model.fit(train_images, y_train_categorical, epochs=10, batch_size=32, validation_split=0.2)\n",
        "\n",
        "test_loss, test_accuracy = model.evaluate(test_images, y_test_categorical)\n",
        "print(f'Test Loss: {test_loss}, Test Accuracy: {test_accuracy}')"
      ],
      "metadata": {
        "id": "PGeaaQI72jxj"
      },
      "execution_count": null,
      "outputs": []
    },
    {
      "cell_type": "code",
      "source": [
        "import pandas as pd\n",
        "from sklearn.preprocessing import LabelEncoder\n",
        "from sklearn.model_selection import train_test_split\n",
        "from tensorflow.keras.preprocessing.image import load_img, img_to_array\n",
        "import numpy as np\n",
        "\n",
        "csv_file = '/content/.csv'\n",
        "data = pd.read_csv(csv_file)\n",
        "\n",
        "label_encoders = {}\n",
        "for column in ['nose', 'mouth', 'eye', 'eyebrow', 'jaw']:\n",
        "    le = LabelEncoder()\n",
        "    data[column] = le.fit_transform(data[column])\n",
        "    label_encoders[column] = le\n",
        "\n",
        "images = []\n",
        "for img_file in data['img_file']:\n",
        "    img_path = f'path/to/your/images/{img_file}'\n",
        "    img = load_img(img_path, target_size=(150, 150))\n",
        "    img_array = img_to_array(img)\n",
        "    images.append(img_array)\n",
        "\n",
        "images = np.array(images) / 255.0\n",
        "\n",
        "X_train, X_val, y_train, y_val = train_test_split(images, data[['nose', 'mouth', 'eye', 'eyebrow', 'jaw']], test_size=0.2, random_state=42)"
      ],
      "metadata": {
        "id": "Ywj5lv47WQ56"
      },
      "execution_count": null,
      "outputs": []
    }
  ]
}